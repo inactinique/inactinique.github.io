{
 "cells": [
  {
   "cell_type": "markdown",
   "id": "7803d115",
   "metadata": {
    "slideshow": {
     "slide_type": "slide"
    }
   },
   "source": [
    "# Goût des archives nativement numérique et digital bricolage\n",
    "\n",
    "## l’historien·ne face aux données massives du web"
   ]
  },
  {
   "cell_type": "markdown",
   "id": "8b574ee0",
   "metadata": {
    "slideshow": {
     "slide_type": "fragment"
    }
   },
   "source": [
    "Séminaire EpiTech\n",
    "\n",
    "Frédéric Clavert, C<sup>2</sup>DH, Université du Luxembourg\n",
    "\n",
    "frederic.clavert@uni.lu\n"
   ]
  },
  {
   "cell_type": "markdown",
   "id": "de5604af",
   "metadata": {
    "slideshow": {
     "slide_type": "subslide"
    }
   },
   "source": [
    "histoire des relations internationales économiques et financières / histoire de l'organisation du continent européen / bibliothèque numérique sur l'histoire de la construction européenne / lecture distante / réseaux sociaux numériques et centenaire de la Grande Guerre / covid19 (twitter - archives du web) / goût de l'archive à l'ère numérique"
   ]
  },
  {
   "cell_type": "markdown",
   "id": "89a867c8-d9f9-4f34-ba4b-955794399b36",
   "metadata": {
    "slideshow": {
     "slide_type": "slide"
    },
    "tags": []
   },
   "source": [
    "# Du goût de l'archive..."
   ]
  },
  {
   "cell_type": "markdown",
   "id": "d4cb3129-d068-468f-a5aa-969e8113a861",
   "metadata": {
    "slideshow": {
     "slide_type": "fragment"
    },
    "tags": []
   },
   "source": [
    "<img src=\"img/farge.jpg\" width=250 />"
   ]
  },
  {
   "cell_type": "markdown",
   "id": "f1be2819-64ba-4d5b-81f5-243ffeeb80e0",
   "metadata": {
    "slideshow": {
     "slide_type": "subslide"
    },
    "tags": []
   },
   "source": [
    "# ...au goût de l'archive à l'ère numérique"
   ]
  },
  {
   "cell_type": "markdown",
   "id": "9ef22ac3-8aa8-416b-b5ae-7a9a3ff44ad4",
   "metadata": {
    "slideshow": {
     "slide_type": "fragment"
    },
    "tags": []
   },
   "source": [
    "[<img src=\"img/gout-numerique.png\" width=500 />](https://www.gout-numerique.net)"
   ]
  },
  {
   "cell_type": "markdown",
   "id": "dd0f04cb-da8d-4c96-b41a-72073dd3fca2",
   "metadata": {
    "slideshow": {
     "slide_type": "subslide"
    },
    "tags": []
   },
   "source": [
    "# Quelques éléments issus du Goût de l'archive à l'ère numérique"
   ]
  },
  {
   "cell_type": "markdown",
   "id": "1b4a3158-aa5a-437c-a458-3c96dbe881df",
   "metadata": {
    "slideshow": {
     "slide_type": "fragment"
    },
    "tags": []
   },
   "source": [
    "- Les pratiques \"discrètes\" des historiens et historiennes"
   ]
  },
  {
   "cell_type": "markdown",
   "id": "de6cb111-f8fb-419a-99ca-027db51b194f",
   "metadata": {
    "slideshow": {
     "slide_type": "fragment"
    },
    "tags": []
   },
   "source": [
    "- La question du bricolage"
   ]
  },
  {
   "cell_type": "markdown",
   "id": "608174ae-015b-4cd1-b012-595909eec3e4",
   "metadata": {
    "slideshow": {
     "slide_type": "slide"
    },
    "tags": []
   },
   "source": [
    "# Bricolage numérique?"
   ]
  },
  {
   "cell_type": "markdown",
   "id": "47d7d8d7-8d73-4fb4-be07-193a1b2d8496",
   "metadata": {
    "slideshow": {
     "slide_type": "fragment"
    },
    "tags": []
   },
   "source": [
    "*La pensée sauvage* (1962), Claude Levi- Strauss\n",
    "\n",
    "- Critique : Ricoeur (1963) ou Derrida\n",
    "- La notion de 'bricolage' peut aider à comprendre l'innovation sociale\n",
    "\n",
    "Quand la science peut mener à une déstabilisation de la société."
   ]
  },
  {
   "cell_type": "markdown",
   "id": "d8cd9d5c-aa61-4aa0-ae2e-58a18cdc617e",
   "metadata": {
    "slideshow": {
     "slide_type": "subslide"
    },
    "tags": []
   },
   "source": [
    "Bricolage numérique comme réponse (universitaire) à la *disruption* technologique.\n",
    "\n",
    "*comment continuer sa recherche alors que les outils, les méthodes et même les sources primaires (dans leur forme et leur volume) évoluent rapidement alors même qu'il n'est plus possible de lire (et comprendre) la littérature que nous devriont livre (et comprendre)?*"
   ]
  },
  {
   "cell_type": "markdown",
   "id": "9df8eae1-3a83-4912-9097-73fff9b15213",
   "metadata": {
    "slideshow": {
     "slide_type": "subslide"
    },
    "tags": []
   },
   "source": [
    "Implications concrètes importantes\n",
    "\n",
    "- Quel outil choisir, comment l'utiliser, comment connaître ses limitation?\n",
    "- Comment comprendre ses propres limitation techniques, méthodologiques et épistémologiques?\n",
    "- Quels modes d'appropriation de ces outils dans les science shumaines et sociales?"
   ]
  },
  {
   "cell_type": "markdown",
   "id": "de2d6a47-4c41-43d0-8ec4-5f81451030c1",
   "metadata": {
    "slideshow": {
     "slide_type": "subslide"
    },
    "tags": []
   },
   "source": [
    "## Trois projets\n",
    "\n",
    "- #ww1 - le Centenaire de la Grande Guerre sur Twitter\n",
    "- AWAC2\n",
    "- Journal of Digital History"
   ]
  },
  {
   "cell_type": "markdown",
   "id": "6b5fe2da-1304-4713-a180-a50b7f347ab6",
   "metadata": {
    "slideshow": {
     "slide_type": "slide"
    },
    "tags": []
   },
   "source": [
    "# #ww1 - Le centenaire de la Grande Guerre sur Twitter"
   ]
  },
  {
   "cell_type": "markdown",
   "id": "fb8931d0-2844-4482-942c-09d38fc9c4d3",
   "metadata": {
    "slideshow": {
     "slide_type": "subslide"
    },
    "tags": []
   },
   "source": [
    "## Origines du projet\n",
    "\n",
    "- Un savoir-faire qui rencontre une question de recherche\n",
    "- Le Centenaire"
   ]
  },
  {
   "cell_type": "markdown",
   "id": "ecbc5867-1da8-4735-bebe-1cfbe7989e9b",
   "metadata": {
    "slideshow": {
     "slide_type": "subslide"
    },
    "tags": []
   },
   "source": [
    "## Différents outils utilisés"
   ]
  },
  {
   "cell_type": "markdown",
   "id": "971e9d9f-3ca7-42fc-aedf-dc84278488f1",
   "metadata": {
    "slideshow": {
     "slide_type": "fragment"
    },
    "tags": []
   },
   "source": [
    "- Collecte avec des scripts sur serveur personnel, puis professionalisation (Lausanne et Luxembourg)\n",
    "    - Sur base de mots-clés / hashtags\n",
    "- Les logiciels de l'entre-deux\n",
    "    - tableurs\n",
    "    - le volume augmentant: Dataiku DSS \n",
    "- Analyse\n",
    "    - IRaMuTeQ\n",
    "    - Gephi"
   ]
  },
  {
   "cell_type": "markdown",
   "id": "28469b99-869f-4d8f-b905-7f0f643dbd5d",
   "metadata": {
    "slideshow": {
     "slide_type": "subslide"
    },
    "tags": []
   },
   "source": [
    "## Analyses"
   ]
  },
  {
   "cell_type": "markdown",
   "id": "3dad4098-6e52-4563-a1ce-b5fcd6ae1f6b",
   "metadata": {
    "slideshow": {
     "slide_type": "subslide"
    },
    "tags": []
   },
   "source": [
    "![](ww1/figure01.png)"
   ]
  },
  {
   "cell_type": "markdown",
   "id": "fc4bc810-58a6-4f99-8211-2d0841e17579",
   "metadata": {
    "slideshow": {
     "slide_type": "subslide"
    },
    "tags": []
   },
   "source": [
    "![](ww1/figure02.png)"
   ]
  },
  {
   "cell_type": "markdown",
   "id": "7760807e-fd12-44e7-85f1-fa5471eeddea",
   "metadata": {
    "slideshow": {
     "slide_type": "subslide"
    },
    "tags": []
   },
   "source": [
    "![](ww1/figure03.png)"
   ]
  },
  {
   "cell_type": "markdown",
   "id": "0b29cb0c-e7fa-4726-8c3d-719d2a37e398",
   "metadata": {
    "slideshow": {
     "slide_type": "subslide"
    },
    "tags": []
   },
   "source": [
    "![](ww1/figure03b.png)"
   ]
  },
  {
   "cell_type": "markdown",
   "id": "bbd9024b-90c0-4829-9e93-f4f7a2d768b3",
   "metadata": {
    "slideshow": {
     "slide_type": "subslide"
    },
    "tags": []
   },
   "source": [
    "![](ww1/figure04.png)"
   ]
  },
  {
   "cell_type": "markdown",
   "id": "f3c4ae9b-808c-47cd-a137-85ba8b936349",
   "metadata": {
    "slideshow": {
     "slide_type": "subslide"
    },
    "tags": []
   },
   "source": [
    "![](ww1/figure04b.png)"
   ]
  },
  {
   "cell_type": "markdown",
   "id": "d6dd65eb-5a1f-4760-b607-fe220c66c325",
   "metadata": {
    "slideshow": {
     "slide_type": "subslide"
    },
    "tags": []
   },
   "source": [
    "![](ww1/figure05.png)"
   ]
  },
  {
   "cell_type": "markdown",
   "id": "64cf8df2-523d-4d97-9229-57d38e1617a2",
   "metadata": {
    "slideshow": {
     "slide_type": "subslide"
    },
    "tags": []
   },
   "source": [
    "## Une transformation radicale des pratiques de recherche et d'écriture"
   ]
  },
  {
   "cell_type": "markdown",
   "id": "a3e77426-d279-4de3-a998-01db0d0da100",
   "metadata": {
    "slideshow": {
     "slide_type": "subslide"
    },
    "tags": []
   },
   "source": [
    "![](img/flowchart.png)"
   ]
  },
  {
   "cell_type": "markdown",
   "id": "d4013082-132d-4c38-a73a-3b45e8992039",
   "metadata": {
    "slideshow": {
     "slide_type": "subslide"
    },
    "tags": []
   },
   "source": [
    "### Quel historien suis-je?"
   ]
  },
  {
   "cell_type": "markdown",
   "id": "ca60dae4-8e75-4d71-8edf-3f368648ade5",
   "metadata": {
    "slideshow": {
     "slide_type": "slide"
    },
    "tags": []
   },
   "source": [
    "# AWAC2\n",
    "\n",
    "## Analysing Web Archives of the COVID Crisis through the IIPC Novel Coronavirus dataset\n",
    "\n",
    "- Corpus d'archives du web \n",
    "- Résultat d'une coopération au sein de l'IIPC\n",
    "    - Corpus hétérogène\n",
    "    - Critères de collecte peu sûrs"
   ]
  },
  {
   "cell_type": "markdown",
   "id": "f5d69a7f-aee1-4847-80ce-b905ea1f21fd",
   "metadata": {
    "slideshow": {
     "slide_type": "subslide"
    },
    "tags": []
   },
   "source": [
    "## Description du corpus"
   ]
  },
  {
   "cell_type": "markdown",
   "id": "e2daf850-a098-4e62-9f6f-ca9e0c2d9af1",
   "metadata": {
    "slideshow": {
     "slide_type": "fragment"
    },
    "tags": []
   },
   "source": [
    "- 5,3 Tb\n",
    "- 8 738 751 pages web"
   ]
  },
  {
   "cell_type": "markdown",
   "id": "276ab6f2-d15b-41e3-bc5e-9a06c2ec2735",
   "metadata": {
    "slideshow": {
     "slide_type": "subslide"
    },
    "tags": []
   },
   "source": [
    "## Accès\n",
    "\n",
    "- Archive It\n",
    "- Archive Unleashed toolkit\n",
    "\n",
    "AUT permet l'extraction de nombreux sous-fichiers\n",
    "- Contenu texte (9,4 Gb)\n",
    "- Différents types de réseaux"
   ]
  },
  {
   "cell_type": "markdown",
   "id": "f3219e57-396d-4ab2-bbb6-8e3a2de0f6d5",
   "metadata": {
    "slideshow": {
     "slide_type": "subslide"
    },
    "tags": []
   },
   "source": [
    "## La routine déroutée\n",
    "\n",
    "- Les méthodes et savoir-faire développés pour #ww1 ne fonctionnent plus\n",
    "- Trop de données"
   ]
  },
  {
   "cell_type": "markdown",
   "id": "52727553-e1d7-4445-88fa-c1acc370f15b",
   "metadata": {
    "slideshow": {
     "slide_type": "subslide"
    },
    "tags": []
   },
   "source": [
    "## Quelles méthodes mettre au point?\n",
    "\n",
    "- Vers les notebooks\n",
    "- GitHub pour le collaboratif\n",
    "- Utilisation des infrastructures HPC de l'université\n",
    "- Coopération avec nos collègues de sciences informatiques"
   ]
  },
  {
   "cell_type": "markdown",
   "id": "4aef6c21-304b-48d5-a435-89e929a67d23",
   "metadata": {
    "slideshow": {
     "slide_type": "subslide"
    },
    "tags": []
   },
   "source": [
    "## Quel historien suis-je?"
   ]
  },
  {
   "cell_type": "markdown",
   "id": "a43ed702-6883-442a-93cc-e56976c61450",
   "metadata": {
    "slideshow": {
     "slide_type": "slide"
    },
    "tags": []
   },
   "source": [
    "# Journal of Digital History"
   ]
  },
  {
   "cell_type": "markdown",
   "id": "46691330-785e-4b00-a249-2607239b83d3",
   "metadata": {
    "slideshow": {
     "slide_type": "fragment"
    },
    "tags": []
   },
   "source": [
    "- Comment permettre à des chercheurs et chercheuses en histoire utilisant des méthodologies similaires de publier dans de bonnes conditions?\n",
    "- Comment valoriser le code, les données, les méthodes et non uniquement les résultats?"
   ]
  },
  {
   "cell_type": "markdown",
   "id": "a1d69d79-6703-46a0-9d42-e83b5e60cf82",
   "metadata": {
    "slideshow": {
     "slide_type": "subslide"
    },
    "tags": []
   },
   "source": [
    "[Journal of Digital History](https://journalofdigitalhistory.org)"
   ]
  },
  {
   "cell_type": "markdown",
   "id": "a7ea16e6-d802-4404-9ecf-05bfc9b46854",
   "metadata": {
    "slideshow": {
     "slide_type": "slide"
    },
    "tags": []
   },
   "source": [
    "# Conclusion"
   ]
  },
  {
   "cell_type": "markdown",
   "id": "e35fccd5-62be-4e02-9a33-cf5300315a44",
   "metadata": {
    "slideshow": {
     "slide_type": "subslide"
    },
    "tags": []
   },
   "source": [
    "- Pratiques, méthodes, écriture de l'histoire... évoluent quasiment à chaque projet\n",
    "    - Fonction de la nature des sources primaires\n",
    "    - Fonction de leur volume\n",
    "- Aucune routine ne peut être mise en place\n",
    "- D'où la pertinence de la notion de *digital bricolage*"
   ]
  },
  {
   "cell_type": "markdown",
   "id": "fa556654-72ce-47d5-9147-59320f9e4b6e",
   "metadata": {
    "slideshow": {
     "slide_type": "subslide"
    },
    "tags": []
   },
   "source": [
    "- Instabilité constante du métier d'historien·ne pour certains types de recherche\n",
    "- Fossé grandissant au sein du milieu des historien·ne·s\n",
    "    - MAIS... touche tou·te·s les historien·ne·s (pratiques discreètes)\n",
    " \n",
    "Comment prendre en compte ces éléments dans la formation des historien·ne·s?"
   ]
  }
 ],
 "metadata": {
  "celltoolbar": "Slideshow",
  "kernelspec": {
   "display_name": "Python 3 (ipykernel)",
   "language": "python",
   "name": "python3"
  },
  "language_info": {
   "codemirror_mode": {
    "name": "ipython",
    "version": 3
   },
   "file_extension": ".py",
   "mimetype": "text/x-python",
   "name": "python",
   "nbconvert_exporter": "python",
   "pygments_lexer": "ipython3",
   "version": "3.8.2"
  },
  "toc": {
   "base_numbering": 1,
   "nav_menu": {},
   "number_sections": true,
   "sideBar": true,
   "skip_h1_title": false,
   "title_cell": "Table of Contents",
   "title_sidebar": "Contents",
   "toc_cell": false,
   "toc_position": {},
   "toc_section_display": true,
   "toc_window_display": true
  }
 },
 "nbformat": 4,
 "nbformat_minor": 5
}
